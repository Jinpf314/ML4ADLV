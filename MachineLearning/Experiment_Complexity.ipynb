{
 "cells": [
  {
   "cell_type": "code",
   "execution_count": null,
   "metadata": {},
   "outputs": [],
   "source": [
    "import joblib\n",
    "import time\n",
    "import concurrent.futures\n",
    "import math\n",
    "import torch\n",
    "from collections import Counter\n",
    "import torch.nn as nn\n",
    "\n",
    "from ML_Functions import *"
   ]
  },
  {
   "cell_type": "code",
   "execution_count": null,
   "metadata": {},
   "outputs": [],
   "source": [
    "X_all = torch.load('Data/A4_E1_X.pt')\n",
    "Y_all = torch.load('Data/A4_E1_Y.pt')\n",
    "X_tr1,X_te1,Y_tr1,Y_te1 = Dataset_spit(X_all,Y_all,ratio=0.8)\n",
    "print(X_all.shape)\n",
    "print(Y_all.shape)\n",
    "print(X_tr1.shape)\n",
    "print(X_te1.shape)\n",
    "print(Y_tr1.shape)\n",
    "print(Y_te1.shape)"
   ]
  },
  {
   "cell_type": "code",
   "execution_count": null,
   "metadata": {
    "scrolled": true
   },
   "outputs": [],
   "source": [
    "num_layer = 3\n",
    "num_mid = 40\n",
    "lr = 0.001\n",
    "wd = 0.001\n",
    "num_ep = 400\n",
    "num_batchsize = 256\n",
    "\n",
    "net,acc_tr,err_tr = NN_train(X_tr1,Y_tr1,n_layer=num_layer,c_mid=num_mid,learning_rate=lr,weight_decay=wd, N_epoch=num_ep,batch_size=num_batchsize,opt_adam=True,print_mid_loss=True)\n",
    "print('%.4f'%acc_tr.numpy())\n",
    "print('%.4f'%err_tr.numpy())\n",
    "acc_te,err_te = NN_test(X_te1,Y_te1,net,batch_size=256)\n",
    "print('%.4f'%acc_te.numpy())\n",
    "print('%.4f'%err_te.numpy())"
   ]
  },
  {
   "cell_type": "code",
   "execution_count": null,
   "metadata": {
    "scrolled": true
   },
   "outputs": [],
   "source": [
    "num_layer = 2\n",
    "num_mid = 40\n",
    "lr = 0.001\n",
    "wd = 0.001\n",
    "num_ep = 400\n",
    "num_batchsize = 256\n",
    "\n",
    "net,acc_tr,err_tr = NN_train(X_tr1,Y_tr1,n_layer=num_layer,c_mid=num_mid,learning_rate=lr,weight_decay=wd, N_epoch=num_ep,batch_size=num_batchsize,opt_adam=True,print_mid_loss=True)\n",
    "print('%.4f'%acc_tr.numpy())\n",
    "print('%.4f'%err_tr.numpy())\n",
    "acc_te,err_te = NN_test(X_te1,Y_te1,net,batch_size=256)\n",
    "print('%.4f'%acc_te.numpy())\n",
    "print('%.4f'%err_te.numpy())"
   ]
  },
  {
   "cell_type": "code",
   "execution_count": null,
   "metadata": {
    "scrolled": true
   },
   "outputs": [],
   "source": [
    "num_layer = 1\n",
    "num_mid = 40\n",
    "lr = 0.001\n",
    "wd = 0.001\n",
    "num_ep = 400\n",
    "num_batchsize = 256\n",
    "\n",
    "net,acc_tr,err_tr = NN_train(X_tr1,Y_tr1,n_layer=num_layer,c_mid=num_mid,learning_rate=lr,weight_decay=wd, N_epoch=num_ep,batch_size=num_batchsize,opt_adam=True,print_mid_loss=True)\n",
    "print('%.4f'%acc_tr.numpy())\n",
    "print('%.4f'%err_tr.numpy())\n",
    "acc_te,err_te = NN_test(X_te1,Y_te1,net,batch_size=256)\n",
    "print('%.4f'%acc_te.numpy())\n",
    "print('%.4f'%err_te.numpy())"
   ]
  },
  {
   "cell_type": "code",
   "execution_count": null,
   "metadata": {
    "scrolled": true
   },
   "outputs": [],
   "source": [
    "num_layer = 3\n",
    "num_mid = 20\n",
    "lr = 0.001\n",
    "wd = 0.001\n",
    "num_ep = 400\n",
    "num_batchsize = 256\n",
    "\n",
    "net,acc_tr,err_tr = NN_train(X_tr1,Y_tr1,n_layer=num_layer,c_mid=num_mid,learning_rate=lr,weight_decay=wd, N_epoch=num_ep,batch_size=num_batchsize,opt_adam=True,print_mid_loss=True)\n",
    "print('%.4f'%acc_tr.numpy())\n",
    "print('%.4f'%err_tr.numpy())\n",
    "acc_te,err_te = NN_test(X_te1,Y_te1,net,batch_size=256)\n",
    "print('%.4f'%acc_te.numpy())\n",
    "print('%.4f'%err_te.numpy())"
   ]
  },
  {
   "cell_type": "code",
   "execution_count": null,
   "metadata": {},
   "outputs": [],
   "source": [
    "num_layer = 2\n",
    "num_mid = 20\n",
    "lr = 0.001\n",
    "wd = 0.001\n",
    "num_ep = 400\n",
    "num_batchsize = 256\n",
    "\n",
    "net,acc_tr,err_tr = NN_train(X_tr1,Y_tr1,n_layer=num_layer,c_mid=num_mid,learning_rate=lr,weight_decay=wd, N_epoch=num_ep,batch_size=num_batchsize,opt_adam=True,print_mid_loss=True)\n",
    "print('%.4f'%acc_tr.numpy())\n",
    "print('%.4f'%err_tr.numpy())\n",
    "acc_te,err_te = NN_test(X_te1,Y_te1,net,batch_size=256)\n",
    "print('%.4f'%acc_te.numpy())\n",
    "print('%.4f'%err_te.numpy())"
   ]
  },
  {
   "cell_type": "code",
   "execution_count": null,
   "metadata": {},
   "outputs": [],
   "source": [
    "num_layer = 1\n",
    "num_mid = 20\n",
    "lr = 0.001\n",
    "wd = 0.001\n",
    "num_ep = 400\n",
    "num_batchsize = 256\n",
    "\n",
    "net,acc_tr,err_tr = NN_train(X_tr1,Y_tr1,n_layer=num_layer,c_mid=num_mid,learning_rate=lr,weight_decay=wd, N_epoch=num_ep,batch_size=num_batchsize,opt_adam=True,print_mid_loss=True)\n",
    "print('%.4f'%acc_tr.numpy())\n",
    "print('%.4f'%err_tr.numpy())\n",
    "acc_te,err_te = NN_test(X_te1,Y_te1,net,batch_size=256)\n",
    "print('%.4f'%acc_te.numpy())\n",
    "print('%.4f'%err_te.numpy())"
   ]
  },
  {
   "cell_type": "code",
   "execution_count": null,
   "metadata": {
    "scrolled": true
   },
   "outputs": [],
   "source": [
    "num_layer = 3\n",
    "num_mid = 10\n",
    "lr = 0.001\n",
    "wd = 0.001\n",
    "num_ep = 400\n",
    "num_batchsize = 256\n",
    "\n",
    "net,acc_tr,err_tr = NN_train(X_tr1,Y_tr1,n_layer=num_layer,c_mid=num_mid,learning_rate=lr,weight_decay=wd, N_epoch=num_ep,batch_size=num_batchsize,opt_adam=True,print_mid_loss=True)\n",
    "print('%.4f'%acc_tr.numpy())\n",
    "print('%.4f'%err_tr.numpy())\n",
    "acc_te,err_te = NN_test(X_te1,Y_te1,net,batch_size=256)\n",
    "print('%.4f'%acc_te.numpy())\n",
    "print('%.4f'%err_te.numpy())"
   ]
  },
  {
   "cell_type": "code",
   "execution_count": null,
   "metadata": {
    "scrolled": true
   },
   "outputs": [],
   "source": [
    "num_layer = 2\n",
    "num_mid = 10\n",
    "lr = 0.001\n",
    "wd = 0.001\n",
    "num_ep = 400\n",
    "num_batchsize = 256\n",
    "\n",
    "net,acc_tr,err_tr = NN_train(X_tr1,Y_tr1,n_layer=num_layer,c_mid=num_mid,learning_rate=lr,weight_decay=wd, N_epoch=num_ep,batch_size=num_batchsize,opt_adam=True,print_mid_loss=True)\n",
    "print('%.4f'%acc_tr.numpy())\n",
    "print('%.4f'%err_tr.numpy())\n",
    "acc_te,err_te = NN_test(X_te1,Y_te1,net,batch_size=256)\n",
    "print('%.4f'%acc_te.numpy())\n",
    "print('%.4f'%err_te.numpy())"
   ]
  },
  {
   "cell_type": "code",
   "execution_count": null,
   "metadata": {
    "scrolled": true
   },
   "outputs": [],
   "source": [
    "num_layer = 1\n",
    "num_mid = 10\n",
    "lr = 0.001\n",
    "wd = 0.001\n",
    "num_ep = 400\n",
    "num_batchsize = 256\n",
    "\n",
    "net,acc_tr,err_tr = NN_train(X_tr1,Y_tr1,n_layer=num_layer,c_mid=num_mid,learning_rate=lr,weight_decay=wd, N_epoch=num_ep,batch_size=num_batchsize,opt_adam=True,print_mid_loss=True)\n",
    "print('%.4f'%acc_tr.numpy())\n",
    "print('%.4f'%err_tr.numpy())\n",
    "acc_te,err_te = NN_test(X_te1,Y_te1,net,batch_size=256)\n",
    "print('%.4f'%acc_te.numpy())\n",
    "print('%.4f'%err_te.numpy())"
   ]
  },
  {
   "cell_type": "code",
   "execution_count": null,
   "metadata": {},
   "outputs": [],
   "source": []
  }
 ],
 "metadata": {
  "kernelspec": {
   "display_name": "Python (pointtorch)",
   "language": "python",
   "name": "pointtorch"
  },
  "language_info": {
   "codemirror_mode": {
    "name": "ipython",
    "version": 3
   },
   "file_extension": ".py",
   "mimetype": "text/x-python",
   "name": "python",
   "nbconvert_exporter": "python",
   "pygments_lexer": "ipython3",
   "version": "3.6.10"
  }
 },
 "nbformat": 4,
 "nbformat_minor": 4
}
