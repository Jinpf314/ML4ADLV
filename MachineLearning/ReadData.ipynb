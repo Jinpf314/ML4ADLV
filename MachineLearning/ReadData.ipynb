{
 "cells": [
  {
   "cell_type": "code",
   "execution_count": null,
   "metadata": {},
   "outputs": [],
   "source": [
    "import joblib\n",
    "import time\n",
    "import concurrent.futures\n",
    "import math\n",
    "import torch\n",
    "from collections import Counter\n",
    "import pandas as pd\n",
    "import numpy as np\n",
    "from ML_Functions import *"
   ]
  },
  {
   "cell_type": "code",
   "execution_count": null,
   "metadata": {},
   "outputs": [],
   "source": [
    "# Experiment_1\n",
    "XYdict = joblib.load('Data/A4_experiment1')\n",
    "print(XYdict[0])\n",
    "X = []\n",
    "Y = []\n",
    "for data_item in XYdict:\n",
    "    x = torch.tensor(data_item[0], dtype=torch.float32).unsqueeze(0)\n",
    "    y = torch.tensor(data_item[1], dtype=torch.float32).unsqueeze(0)\n",
    "    X.append(x)\n",
    "    Y.append(y)\n",
    "X_all = torch.cat(X,dim=0)\n",
    "Y_all = torch.cat(Y,dim=0)\n",
    "print(X_all.shape)\n",
    "print(Y_all.shape)\n",
    "print(Y_all.max())\n",
    "print(Y_all.min())\n",
    "torch.save(X_all,'Data/A4_E1_X.pt')\n",
    "torch.save(Y_all,'Data/A4_E1_Y.pt')"
   ]
  },
  {
   "cell_type": "code",
   "execution_count": null,
   "metadata": {},
   "outputs": [],
   "source": [
    "# Experiment_2\n",
    "XYdict = joblib.load('Data/A4_experiment2')\n",
    "print(XYdict[0])\n",
    "X = []\n",
    "Y = []\n",
    "for data_item in XYdict:\n",
    "    x = torch.tensor(data_item[0], dtype=torch.float32).unsqueeze(0)\n",
    "    y = torch.tensor(data_item[1], dtype=torch.float32).unsqueeze(0)\n",
    "    X.append(x)\n",
    "    Y.append(y)\n",
    "X_all = torch.cat(X,dim=0)\n",
    "Y_all = torch.cat(Y,dim=0)\n",
    "print(X_all.shape)\n",
    "print(Y_all.shape)\n",
    "print(Y_all.max())\n",
    "print(Y_all.min())\n",
    "torch.save(X_all,'Data/A4_E2_X.pt')\n",
    "torch.save(Y_all,'Data/A4_E2_Y.pt')"
   ]
  },
  {
   "cell_type": "code",
   "execution_count": null,
   "metadata": {},
   "outputs": [],
   "source": [
    "# Dataset 2\n",
    "# Experiment_3,5\n",
    "data = pd.read_csv('Data/dataset2.csv')\n",
    "array = data.values\n",
    "tensor_Data = torch.from_numpy(array).to(torch.float32)"
   ]
  },
  {
   "cell_type": "code",
   "execution_count": null,
   "metadata": {},
   "outputs": [],
   "source": [
    "print(tensor_Data.shape)\n",
    "cols_to_pick = [1, 2, 3] + list(range(8, 33))  # experiment_3\n",
    "X_all = tensor_Data[:, cols_to_pick]\n",
    "Y_all = tensor_Data[:,33]\n",
    "print(X_all.shape)\n",
    "print(Y_all.shape)\n",
    "print(Y_all.max())\n",
    "print(Y_all.min())\n",
    "torch.save(X_all,'Data/A4_E3_X.pt')\n",
    "torch.save(Y_all,'Data/A4_E3_Y.pt')"
   ]
  },
  {
   "cell_type": "code",
   "execution_count": null,
   "metadata": {},
   "outputs": [],
   "source": [
    "print(tensor_Data.shape)\n",
    "cols_to_pick = [2, 3, 4, 5, 6, 7]   # experiment_5\n",
    "X_all = tensor_Data[:, cols_to_pick]\n",
    "Y_all = tensor_Data[:,33]-tensor_Data[:,1]*0.5\n",
    "print(X_all.shape)\n",
    "print(Y_all.shape)\n",
    "print(Y_all.max())\n",
    "print(Y_all.min())\n",
    "torch.save(X_all,'Data/A4_E5_X.pt')\n",
    "torch.save(Y_all,'Data/A4_E5_Y.pt')"
   ]
  },
  {
   "cell_type": "code",
   "execution_count": null,
   "metadata": {},
   "outputs": [],
   "source": [
    "# Experiment_4\n",
    "data = pd.read_csv('Data/dataset3.csv')\n",
    "array = data.values\n",
    "tensor_Data = torch.from_numpy(array).to(torch.float32)"
   ]
  },
  {
   "cell_type": "code",
   "execution_count": null,
   "metadata": {},
   "outputs": [],
   "source": [
    "print(tensor_Data.shape)\n",
    "cols_to_pick = [3] + list(range(23, 33))  # experiment_4\n",
    "X_all = tensor_Data[:, cols_to_pick]\n",
    "Y_all = tensor_Data[:,33]-tensor_Data[:,1]*0.5\n",
    "print(X_all.shape)\n",
    "print(Y_all.shape)\n",
    "print(Y_all.max())\n",
    "print(Y_all.min())\n",
    "torch.save(X_all,'Data/A4_E4_X.pt')\n",
    "torch.save(Y_all,'Data/A4_E4_Y.pt')"
   ]
  },
  {
   "cell_type": "code",
   "execution_count": null,
   "metadata": {},
   "outputs": [],
   "source": [
    "# Experiment_nonempty\n",
    "XYdict = joblib.load('Data/A4_nonempty')\n",
    "print(XYdict[0])"
   ]
  },
  {
   "cell_type": "code",
   "execution_count": null,
   "metadata": {},
   "outputs": [],
   "source": [
    "X = []\n",
    "Y = []\n",
    "for data_item in XYdict:\n",
    "    x = torch.tensor(data_item[0], dtype=torch.float32).unsqueeze(0)\n",
    "    y = torch.tensor(data_item[1], dtype=torch.float32).unsqueeze(0)\n",
    "    X.append(x)\n",
    "    Y.append(y)\n",
    "X_all = torch.cat(X,dim=0)\n",
    "Y_all = torch.cat(Y,dim=0)\n",
    "print(X_all.shape)\n",
    "print(Y_all.shape)\n",
    "print(Y_all.max())\n",
    "print(Y_all.min())\n",
    "torch.save(X_all,'Data/A4_nonempty_X.pt')\n",
    "torch.save(Y_all,'Data/A4_nonempty_Y.pt')"
   ]
  },
  {
   "cell_type": "code",
   "execution_count": null,
   "metadata": {},
   "outputs": [],
   "source": [
    "# Experiment_dimension\n",
    "XYdict = joblib.load('Data/A4_dimension')\n",
    "print(XYdict[0])"
   ]
  },
  {
   "cell_type": "code",
   "execution_count": null,
   "metadata": {},
   "outputs": [],
   "source": [
    "X = []\n",
    "Y = []\n",
    "for data_item in XYdict:\n",
    "    x = torch.tensor(data_item[0], dtype=torch.float32).unsqueeze(0)\n",
    "    y = torch.tensor(data_item[1], dtype=torch.float32).unsqueeze(0)\n",
    "    X.append(x)\n",
    "    Y.append(y)\n",
    "X_all = torch.cat(X,dim=0)\n",
    "Y_all = torch.cat(Y,dim=0)\n",
    "print(X_all.shape)\n",
    "print(Y_all.shape)\n",
    "print(Y_all.max())\n",
    "print(Y_all.min())\n",
    "torch.save(X_all,'Data/A4_dimension_X.pt')\n",
    "torch.save(Y_all,'Data/A4_dimension_Y.pt')"
   ]
  },
  {
   "cell_type": "code",
   "execution_count": null,
   "metadata": {},
   "outputs": [],
   "source": [
    "# Experiment_dirdim-dim\n",
    "XYdict = joblib.load('Data/A4_virdim_dim')\n",
    "print(XYdict[0])"
   ]
  },
  {
   "cell_type": "code",
   "execution_count": null,
   "metadata": {
    "scrolled": true
   },
   "outputs": [],
   "source": [
    "X = []\n",
    "Y = []\n",
    "for data_item in XYdict:\n",
    "    x = torch.tensor(data_item[0], dtype=torch.float32).unsqueeze(0)\n",
    "    y = torch.tensor(data_item[1], dtype=torch.float32).unsqueeze(0)\n",
    "    X.append(x)\n",
    "    Y.append(y)\n",
    "X_all = torch.cat(X,dim=0)\n",
    "Y_all = torch.cat(Y,dim=0)\n",
    "print(X_all.shape)\n",
    "print(Y_all.shape)\n",
    "print(Y_all.max())\n",
    "print(Y_all.min())\n",
    "torch.save(X_all,'Data/A4_virdim_dim_X.pt')\n",
    "torch.save(Y_all,'Data/A4_virdim_dim_Y.pt')"
   ]
  },
  {
   "cell_type": "code",
   "execution_count": null,
   "metadata": {},
   "outputs": [],
   "source": [
    "# Experiment_irr"
   ]
  },
  {
   "cell_type": "code",
   "execution_count": null,
   "metadata": {},
   "outputs": [],
   "source": [
    "# Experiment_irr\n",
    "# y=1\n",
    "XYdict = joblib.load('Data/A4_atmu_dim_virdim_irr')\n",
    "print(XYdict[0])\n",
    "X = []\n",
    "Y = []\n",
    "for data_item in XYdict:\n",
    "    x1 = torch.tensor(data_item[0], dtype=torch.float32)\n",
    "    x2 = torch.tensor(data_item[1], dtype=torch.float32).unsqueeze(0)\n",
    "    x = torch.cat([x1,x2]).unsqueeze(0)\n",
    "    y = torch.tensor(data_item[2], dtype=torch.float32).unsqueeze(0)\n",
    "    X.append(x)\n",
    "    Y.append(y)\n",
    "X_all = torch.cat(X,dim=0)\n",
    "Y_all = torch.cat(Y,dim=0)\n",
    "print(X_all.shape)\n",
    "print(Y_all.shape)\n",
    "print(Y_all.max())\n",
    "print(Y_all.min())\n",
    "torch.save(X_all,'Data/A4_irr_y1_X.pt')\n",
    "torch.save(Y_all,'Data/A4_irr_y1_Y.pt')"
   ]
  },
  {
   "cell_type": "code",
   "execution_count": null,
   "metadata": {},
   "outputs": [],
   "source": []
  }
 ],
 "metadata": {
  "kernelspec": {
   "display_name": "Python (pointtorch)",
   "language": "python",
   "name": "pointtorch"
  },
  "language_info": {
   "codemirror_mode": {
    "name": "ipython",
    "version": 3
   },
   "file_extension": ".py",
   "mimetype": "text/x-python",
   "name": "python",
   "nbconvert_exporter": "python",
   "pygments_lexer": "ipython3",
   "version": "3.6.10"
  }
 },
 "nbformat": 4,
 "nbformat_minor": 4
}
