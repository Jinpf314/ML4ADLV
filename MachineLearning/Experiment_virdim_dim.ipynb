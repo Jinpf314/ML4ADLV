{
 "cells": [
  {
   "cell_type": "code",
   "execution_count": null,
   "metadata": {},
   "outputs": [],
   "source": [
    "import joblib\n",
    "import time\n",
    "import concurrent.futures\n",
    "import math\n",
    "import torch\n",
    "from collections import Counter\n",
    "import time\n",
    "from ML_Functions import *"
   ]
  },
  {
   "cell_type": "code",
   "execution_count": null,
   "metadata": {},
   "outputs": [],
   "source": [
    "X_all = torch.load('Data/A4_virdim_dim_X.pt')\n",
    "Y_all = torch.load('Data/A4_virdim_dim_Y.pt')\n",
    "print(X_all.shape)\n",
    "print(Y_all.shape)"
   ]
  },
  {
   "cell_type": "markdown",
   "metadata": {},
   "source": [
    "# SVM"
   ]
  },
  {
   "cell_type": "code",
   "execution_count": null,
   "metadata": {},
   "outputs": [],
   "source": [
    "weight_list = []     \n",
    "bias_list = []\n",
    "acc_list = []\n",
    "for i in range(100):\n",
    "    print(i)\n",
    "    net,pre,acc = SVM_train(X_all,Y_all,ls_lambda=0.001,learning_rate=0.01,N_epoch=10,batch_size=1024,opt_adam=True,print_mid_loss=True)\n",
    "    weight_list.append(net.linear1.weight.data)\n",
    "    bias_list.append(net.linear1.bias.data)\n",
    "    acc_list.append(acc)\n",
    "    print('------------------------------------------')"
   ]
  },
  {
   "cell_type": "code",
   "execution_count": null,
   "metadata": {},
   "outputs": [],
   "source": [
    "weight_all = torch.cat(weight_list,dim=0)\n",
    "weight_avg = weight_all.mean(0)\n",
    "acc_avg = sum(acc_list) / len(acc_list)\n",
    "print('Coefficient = ' + ', '.join(['{:.2f}'.format(i) for i in torch.round(weight_avg * 100) / 100]))\n",
    "print(acc_avg)"
   ]
  },
  {
   "cell_type": "markdown",
   "metadata": {},
   "source": [
    "# Neural Network"
   ]
  },
  {
   "cell_type": "code",
   "execution_count": null,
   "metadata": {},
   "outputs": [],
   "source": [
    "Y_all = Y_all*0.5+0.5   # form [-1,1] to [0,1] for Classification\n",
    "X_tr,X_te,Y_tr,Y_te = Dataset_spit(X_all,Y_all,ratio=0.8)\n",
    "print(X_tr.shape)\n",
    "print(X_te.shape)\n",
    "print(Y_tr.shape)\n",
    "print(Y_te.shape)"
   ]
  },
  {
   "cell_type": "code",
   "execution_count": null,
   "metadata": {},
   "outputs": [],
   "source": [
    "# Single-layer ReLU network with 10 neurons\n",
    "\n",
    "sen_list = []\n",
    "acc_list = []\n",
    "acc_test_list = []\n",
    "for i in range(100):\n",
    "    print(i)\n",
    "    net,acc = CLS_N_train_GPU(X_tr,Y_tr,n_class=2,n_layer=1,c_mid=10,learning_rate=0.01,weight_decay=0.001,N_epoch=50,batch_size=1024,opt_adam=True,print_mid_loss=True)\n",
    "    acc_test = CLS_test_GPU(X_te,Y_te,net,batch_size=1024)\n",
    "    sen_vec = CLS_grad_GPU(X_te,Y_te,net,batch_size=1024)\n",
    "    sen_list.append(sen_vec.unsqueeze(dim=0).cpu().data)\n",
    "    acc_list.append(acc)\n",
    "    acc_test_list.append(acc_test)\n",
    "    print('------------------------------------------')\n",
    "sen_all = torch.cat(sen_list,dim=0)\n",
    "sen_avg = sen_all.mean(0)\n",
    "print('Avg sen:')\n",
    "print('Coefficient = ' + ', '.join(['{:.2f}'.format(i) for i in torch.round(sen_avg.squeeze()*10000) / 10000]))\n",
    "print(sum(acc_list) / len(acc_list))\n",
    "print(sum(acc_test_list) / len(acc_list))"
   ]
  },
  {
   "cell_type": "code",
   "execution_count": null,
   "metadata": {},
   "outputs": [],
   "source": [
    "# Three-layer ReLU network with 20 neurons\n",
    "\n",
    "sen_list = []\n",
    "acc_list = []\n",
    "acc_test_list = []\n",
    "for i in range(100):\n",
    "    print(i)\n",
    "    net,acc = CLS_N_train_GPU(X_tr,Y_tr,n_class=2,n_layer=3,c_mid=20,learning_rate=0.01,weight_decay=0.001,N_epoch=100,batch_size=1024,opt_adam=True,print_mid_loss=True)\n",
    "    acc_test = CLS_test_GPU(X_te,Y_te,net,batch_size=1024)\n",
    "    sen_vec = CLS_grad_GPU(X_te,Y_te,net,batch_size=1024)\n",
    "    sen_list.append(sen_vec.unsqueeze(dim=0).cpu().data)\n",
    "    acc_list.append(acc)\n",
    "    acc_test_list.append(acc_test)\n",
    "    print('------------------------------------------')\n",
    "sen_all = torch.cat(sen_list,dim=0)\n",
    "sen_avg = sen_all.mean(0)\n",
    "print('Avg sen:')\n",
    "print('Coefficient = ' + ', '.join(['{:.2f}'.format(i) for i in torch.round(sen_avg.squeeze()*10000) / 10000]))\n",
    "print(sum(acc_list) / len(acc_list))\n",
    "print(sum(acc_test_list) / len(acc_list))"
   ]
  },
  {
   "cell_type": "code",
   "execution_count": null,
   "metadata": {},
   "outputs": [],
   "source": []
  }
 ],
 "metadata": {
  "kernelspec": {
   "display_name": "Python (pointtorch)",
   "language": "python",
   "name": "pointtorch"
  },
  "language_info": {
   "codemirror_mode": {
    "name": "ipython",
    "version": 3
   },
   "file_extension": ".py",
   "mimetype": "text/x-python",
   "name": "python",
   "nbconvert_exporter": "python",
   "pygments_lexer": "ipython3",
   "version": "3.6.10"
  }
 },
 "nbformat": 4,
 "nbformat_minor": 4
}
