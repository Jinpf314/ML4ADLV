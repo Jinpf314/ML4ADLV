{
 "cells": [
  {
   "cell_type": "code",
   "execution_count": null,
   "metadata": {},
   "outputs": [],
   "source": [
    "import joblib\n",
    "import time\n",
    "import concurrent.futures\n",
    "import math\n",
    "import torch\n",
    "from collections import Counter\n",
    "from ML_Functions import *"
   ]
  },
  {
   "cell_type": "markdown",
   "metadata": {},
   "source": [
    "# Experiment 2"
   ]
  },
  {
   "cell_type": "code",
   "execution_count": null,
   "metadata": {},
   "outputs": [],
   "source": [
    "# read data\n",
    "X_all = torch.load('Data/A4_E2_X.pt')\n",
    "Y_all = torch.load('Data/A4_E2_Y.pt')"
   ]
  },
  {
   "cell_type": "code",
   "execution_count": null,
   "metadata": {},
   "outputs": [],
   "source": [
    "lambda_ls = 1\n",
    "n_f = 28\n",
    "print('result of non-bias:')\n",
    "ind_used=torch.arange(0,n_f)\n",
    "LinearReg(X_all,Y_all,ind_used,if_bias=False,lambda_ls=lambda_ls)"
   ]
  },
  {
   "cell_type": "code",
   "execution_count": null,
   "metadata": {},
   "outputs": [],
   "source": [
    "# dominant regular\n",
    "selected_indices = []\n",
    "\n",
    "for i in range(5000):\n",
    "    data_row = X_all[i]\n",
    "    flag = data_row[11:16]\n",
    "    unique, counts = torch.unique(flag, return_counts=True)\n",
    "    if len(unique) == flag.size(0):\n",
    "        selected_indices.append(i)\n",
    "\n",
    "X_subset = X_all[selected_indices]\n",
    "Y_subset = Y_all[selected_indices]\n",
    "\n",
    "print(\"Subset dataset shape:\", X_subset.shape)\n",
    "print(\"Subset dataset shape:\", Y_subset.shape)"
   ]
  },
  {
   "cell_type": "code",
   "execution_count": null,
   "metadata": {},
   "outputs": [],
   "source": [
    "lambda_ls = 1\n",
    "n_f = 28\n",
    "print('result of non-bias:')\n",
    "ind_used=torch.arange(0,n_f)\n",
    "LinearReg(X_subset,Y_subset,ind_used,if_bias=False,lambda_ls=lambda_ls)"
   ]
  },
  {
   "cell_type": "markdown",
   "metadata": {},
   "source": [
    "# Experiment 3"
   ]
  },
  {
   "cell_type": "code",
   "execution_count": null,
   "metadata": {},
   "outputs": [],
   "source": [
    "# read data\n",
    "X_all = torch.load('Data/A4_E3_X.pt')\n",
    "Y_all = torch.load('Data/A4_E3_Y.pt')"
   ]
  },
  {
   "cell_type": "code",
   "execution_count": null,
   "metadata": {},
   "outputs": [],
   "source": [
    "lambda_ls = 10\n",
    "n_f = 28\n",
    "print('result of non-bias:')\n",
    "ind_used=torch.arange(0,n_f)\n",
    "LinearReg(X_all,Y_all,ind_used,if_bias=False,lambda_ls=lambda_ls)"
   ]
  },
  {
   "cell_type": "markdown",
   "metadata": {},
   "source": [
    "# Experiment 4"
   ]
  },
  {
   "cell_type": "code",
   "execution_count": null,
   "metadata": {},
   "outputs": [],
   "source": [
    "# read data\n",
    "X_all = torch.load('Data/A4_E4_X.pt')\n",
    "Y_all = torch.load('Data/A4_E4_Y.pt')"
   ]
  },
  {
   "cell_type": "code",
   "execution_count": null,
   "metadata": {},
   "outputs": [],
   "source": [
    "# use all the feature\n",
    "lambda_ls = 1\n",
    "n_f = 11\n",
    "print('result of non-bias:')\n",
    "ind_used=torch.arange(0,n_f)\n",
    "LinearReg(X_all,Y_all,ind_used,if_bias=False,lambda_ls=lambda_ls)"
   ]
  },
  {
   "cell_type": "code",
   "execution_count": null,
   "metadata": {},
   "outputs": [],
   "source": [
    "(0.02+0.05+0.10+0.13-0.05+0.07+0.11-0.07+0.05+0.00)*0.1+0.42"
   ]
  },
  {
   "cell_type": "code",
   "execution_count": null,
   "metadata": {},
   "outputs": [],
   "source": [
    "# use one feature\n",
    "lambda_ls = 1\n",
    "print('result of non-bias:')\n",
    "ind_used=torch.tensor([0])\n",
    "LinearReg(X_all,Y_all,ind_used,if_bias=False,lambda_ls=lambda_ls)"
   ]
  },
  {
   "cell_type": "code",
   "execution_count": null,
   "metadata": {},
   "outputs": [],
   "source": [
    "# L_1 model\n",
    "\n",
    "import torch\n",
    "import torch.nn as nn\n",
    "import torch.optim as optim\n",
    "\n",
    "X = X_all\n",
    "Y = Y_all\n",
    "model = nn.Linear(11, 1)\n",
    "\n",
    "\n",
    "criterion = nn.L1Loss()\n",
    "optimizer = optim.SGD(model.parameters(), lr=0.0001)\n",
    "\n",
    "num_epochs = 10000\n",
    "for epoch in range(num_epochs):\n",
    "    outputs = model(X)\n",
    "    loss = criterion(outputs.squeeze(), Y)\n",
    "    l1_lambda = 1\n",
    "    l1_regularization = torch.tensor(0.)\n",
    "    for param in model.parameters():\n",
    "        l1_regularization += torch.norm(param, p=1)\n",
    "    loss += l1_lambda * l1_regularization\n",
    "    optimizer.zero_grad()\n",
    "    loss.backward()\n",
    "    optimizer.step()\n",
    "v = model.weight.squeeze()\n",
    "print('Coefficient:')\n",
    "print(v)\n",
    "pre = torch.matmul(X_all,v)\n",
    "error = pre-Y_all\n",
    "error_all = error.abs().sum()\n",
    "n_total = X_all.shape[0]\n",
    "print('average error: %.4f'%(error_all/n_total))"
   ]
  },
  {
   "cell_type": "markdown",
   "metadata": {},
   "source": [
    "# Experiment 5"
   ]
  },
  {
   "cell_type": "code",
   "execution_count": null,
   "metadata": {},
   "outputs": [],
   "source": [
    "# read data\n",
    "X_all = torch.load('Data/A4_E5_X.pt')\n",
    "Y_all = torch.load('Data/A4_E5_Y.pt')"
   ]
  },
  {
   "cell_type": "code",
   "execution_count": null,
   "metadata": {},
   "outputs": [],
   "source": [
    "lambda_ls = 0\n",
    "n_f = 6\n",
    "print('result of non-bias:')\n",
    "ind_used=torch.arange(0,n_f)\n",
    "LinearReg(X_all,Y_all,ind_used,if_bias=False,lambda_ls=lambda_ls)"
   ]
  }
 ],
 "metadata": {
  "kernelspec": {
   "display_name": "Python (pointtorch)",
   "language": "python",
   "name": "pointtorch"
  },
  "language_info": {
   "codemirror_mode": {
    "name": "ipython",
    "version": 3
   },
   "file_extension": ".py",
   "mimetype": "text/x-python",
   "name": "python",
   "nbconvert_exporter": "python",
   "pygments_lexer": "ipython3",
   "version": "3.6.10"
  }
 },
 "nbformat": 4,
 "nbformat_minor": 4
}
